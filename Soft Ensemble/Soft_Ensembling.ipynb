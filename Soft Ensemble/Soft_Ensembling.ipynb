{
 "cells": [
  {
   "cell_type": "markdown",
   "metadata": {
    "id": "rp6-BD5V23si"
   },
   "source": [
    "# Import required modules"
   ]
  },
  {
   "cell_type": "code",
   "execution_count": null,
   "metadata": {
    "id": "5in0kcDnNNm2"
   },
   "outputs": [],
   "source": [
    "import pandas as pd\n",
    "import numpy as np\n",
    "import scipy"
   ]
  },
  {
   "cell_type": "markdown",
   "metadata": {
    "id": "uRmWLFg97Ot9"
   },
   "source": [
    "# Input the language"
   ]
  },
  {
   "cell_type": "code",
   "execution_count": null,
   "metadata": {
    "colab": {
     "base_uri": "https://localhost:8080/"
    },
    "id": "J1l2qsjT7T5u",
    "outputId": "b7dc2e59-5a7a-4a74-feff-6d5acd2ad662"
   },
   "outputs": [],
   "source": [
    "lang = input('Choose language: 1 for tamil, 2 for malayalam, 3 for kannada: ')\n",
    "\n",
    "class_list = ['Not_offensive',\n",
    " 'Offensive_Targeted_Insult_Group',\n",
    " 'Offensive_Targeted_Insult_Individual',\n",
    " 'Offensive_Targeted_Insult_Other',\n",
    " 'Offensive_Untargetede']\n",
    "\n",
    "\n",
    "if lang == '1': \n",
    "    lang = 'Tamil'\n",
    "    class_list.append('not-Tamil')\n",
    "elif lang == '2': \n",
    "    lang = 'malayalam'\n",
    "    class_list.append('not-malayalam')\n",
    "    class_list.remove('Offensive_Targeted_Insult_Other')\n",
    "elif lang == '3': \n",
    "    lang = 'Kannada'\n",
    "    class_list.append('not-Kannada')"
   ]
  },
  {
   "cell_type": "markdown",
   "metadata": {
    "id": "38g-5U4M3XAu"
   },
   "source": [
    "# Enter paths of input files"
   ]
  },
  {
   "cell_type": "code",
   "execution_count": null,
   "metadata": {
    "id": "fOqLxgFD3p6m"
   },
   "outputs": [],
   "source": [
    "mbert_output_file = input(\"Enter the path(absolute or relative) for the .xlsx file obtained from mBERT: \")\n",
    "ulmfit_output_file = input(\"Enter the path(absolute or relative) the .xlsx file obtained from ULMFiT: \")"
   ]
  },
  {
   "cell_type": "markdown",
   "metadata": {
    "id": "XYNUg8az61zN"
   },
   "source": [
    "# Make their dataframes"
   ]
  },
  {
   "cell_type": "code",
   "execution_count": null,
   "metadata": {
    "id": "gLQqF91XNXG9"
   },
   "outputs": [],
   "source": [
    "mbert_df = pd.read_excel(mbert_output_file, engine='openpyxl')\n",
    "ulmfit_df = pd.read_excel(ulmfit_output_file, engine='openpyxl')"
   ]
  },
  {
   "cell_type": "code",
   "execution_count": null,
   "metadata": {
    "id": "T0HMGufZWOxV"
   },
   "outputs": [],
   "source": [
    "mbert_df = mbert_df.drop(columns='Unnamed: 0')\n",
    "mbert_df = mbert_df.rename(columns={'Input': 'query', 'Correct Label': 'actual_label'})"
   ]
  },
  {
   "cell_type": "code",
   "execution_count": null,
   "metadata": {
    "id": "N_R2nV5G45lW"
   },
   "outputs": [],
   "source": [
    "mbert_df = mbert_df.drop(columns=['query'])"
   ]
  },
  {
   "cell_type": "markdown",
   "metadata": {
    "id": "FtTS-7w36_d_"
   },
   "source": [
    "# Concatenate the dataframes"
   ]
  },
  {
   "cell_type": "code",
   "execution_count": null,
   "metadata": {
    "id": "YPlokIgvaLjG"
   },
   "outputs": [],
   "source": [
    "main_df = pd.concat([mbert_df, ulmfit_df], axis=1)\n",
    "main_df"
   ]
  },
  {
   "cell_type": "code",
   "execution_count": null,
   "metadata": {
    "id": "VF5MpvUbYu8U"
   },
   "outputs": [],
   "source": [
    "req_cols = class_list"
   ]
  },
  {
   "cell_type": "markdown",
   "metadata": {
    "id": "-WtLQbHr7x2w"
   },
   "source": [
    "# The soft voting"
   ]
  },
  {
   "cell_type": "code",
   "execution_count": null,
   "metadata": {
    "id": "VFWRuyaxP-7g"
   },
   "outputs": [],
   "source": [
    "def max_cols(row):\n",
    "    maxm = []\n",
    "    for col in req_cols:\n",
    "        maxm.append((col, row[col] + row['Score_'+col]))\n",
    "    row['max_both'] = max(maxm, key=lambda x: x[1])[0]\n",
    "\n",
    "    return pd.Series(row)"
   ]
  },
  {
   "cell_type": "code",
   "execution_count": null,
   "metadata": {
    "id": "UPHU_IF0Yycf"
   },
   "outputs": [],
   "source": [
    "final_df = main_df.apply(lambda x: max_cols(x), axis=1)\n",
    "final_df"
   ]
  },
  {
   "cell_type": "code",
   "execution_count": null,
   "metadata": {
    "id": "PH4KdYjAboHS"
   },
   "outputs": [],
   "source": [
    "final_df.head(10)"
   ]
  },
  {
   "cell_type": "markdown",
   "metadata": {
    "id": "qnboTuGP71bs"
   },
   "source": [
    "# Write results to a file"
   ]
  },
  {
   "cell_type": "code",
   "execution_count": null,
   "metadata": {
    "id": "9_rjL05UfACx"
   },
   "outputs": [],
   "source": [
    "final_df[['query', 'max_both']].to_excel(f'final_output_{lang}.xlsx', header=None, index=False, encoding='utf-8')"
   ]
  }
 ],
 "metadata": {
  "colab": {
   "collapsed_sections": [],
   "name": "Soft Ensembling.ipynb",
   "provenance": [],
   "toc_visible": true
  },
  "kernelspec": {
   "display_name": "Python 3",
   "language": "python",
   "name": "python3"
  },
  "language_info": {
   "codemirror_mode": {
    "name": "ipython",
    "version": 3
   },
   "file_extension": ".py",
   "mimetype": "text/x-python",
   "name": "python",
   "nbconvert_exporter": "python",
   "pygments_lexer": "ipython3",
   "version": "3.8.5"
  }
 },
 "nbformat": 4,
 "nbformat_minor": 1
}
