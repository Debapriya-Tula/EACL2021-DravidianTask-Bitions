{
  "nbformat": 4,
  "nbformat_minor": 0,
  "metadata": {
    "colab": {
      "name": "Soft Ensembling.ipynb",
      "provenance": [],
      "collapsed_sections": [],
      "toc_visible": true
    },
    "kernelspec": {
      "name": "python3",
      "display_name": "Python 3"
    }
  },
  "cells": [
    {
      "cell_type": "markdown",
      "metadata": {
        "id": "rp6-BD5V23si"
      },
      "source": [
        "# Import required modules"
      ]
    },
    {
      "cell_type": "code",
      "metadata": {
        "id": "5in0kcDnNNm2"
      },
      "source": [
        "import pandas as pd\r\n",
        "import numpy as np\r\n",
        "import scipy"
      ],
      "execution_count": null,
      "outputs": []
    },
    {
      "cell_type": "markdown",
      "metadata": {
        "id": "uRmWLFg97Ot9"
      },
      "source": [
        "# Input the language"
      ]
    },
    {
      "cell_type": "code",
      "metadata": {
        "colab": {
          "base_uri": "https://localhost:8080/"
        },
        "id": "J1l2qsjT7T5u",
        "outputId": "b7dc2e59-5a7a-4a74-feff-6d5acd2ad662"
      },
      "source": [
        "lang = input('Choose language: 1 for tamil, 2 for malayalam, 3 for kannada: ')\n",
        "class_list = ['Not_offensive',\n",
        " 'Offensive_Targeted_Insult_Group',\n",
        " 'Offensive_Targeted_Insult_Individual',\n",
        " 'Offensive_Targeted_Insult_Other',\n",
        " 'Offensive_Untargetede']\n",
        "\n",
        "\n",
        "if lang == '1': \n",
        "    lang = 'Tamil'\n",
        "    class_list.append('not-Tamil')\n",
        "elif lang == '2': \n",
        "    lang = 'malayalam'\n",
        "    class_list.append('not-malayalam')\n",
        "    class_list.remove('Offensive_Targeted_Insult_Other')\n",
        "elif lang == '3': \n",
        "    lang = 'Kannada'\n",
        "    class_list.append('not-Kannada')"
      ],
      "execution_count": 17,
      "outputs": [
        {
          "output_type": "stream",
          "text": [
            "Choose language: 1 for tamil, 2 for malayalam, 3 for kannada: 3\n"
          ],
          "name": "stdout"
        }
      ]
    },
    {
      "cell_type": "markdown",
      "metadata": {
        "id": "38g-5U4M3XAu"
      },
      "source": [
        "# Input names of files"
      ]
    },
    {
      "cell_type": "code",
      "metadata": {
        "id": "fOqLxgFD3p6m"
      },
      "source": [
        "mbert_output_file = input(\"Enter the name of the .xlsx file obtained from mBERT: \")\n",
        "ulmfit_output_file = input(\"Enter the name of the .xlsx file obtained from ULMFiT: \")"
      ],
      "execution_count": null,
      "outputs": []
    },
    {
      "cell_type": "markdown",
      "metadata": {
        "id": "XYNUg8az61zN"
      },
      "source": [
        "# Make their dataframes"
      ]
    },
    {
      "cell_type": "code",
      "metadata": {
        "id": "gLQqF91XNXG9"
      },
      "source": [
        "mbert_df = pd.read_excel(mbert_output_file, engine='openpyxl')\r\n",
        "ulmfit_df = pd.read_excel(ulmfit_output_file, engine='openpyxl')"
      ],
      "execution_count": null,
      "outputs": []
    },
    {
      "cell_type": "code",
      "metadata": {
        "id": "T0HMGufZWOxV"
      },
      "source": [
        "mbert_df = mbert_df.drop(columns='Unnamed: 0')\n",
        "mbert_df = mbert_df.rename(columns={'Input': 'query', 'Correct Label': 'actual_label'})"
      ],
      "execution_count": 10,
      "outputs": []
    },
    {
      "cell_type": "code",
      "metadata": {
        "id": "N_R2nV5G45lW"
      },
      "source": [
        "mbert_df = mbert_df.drop(columns=['query'])"
      ],
      "execution_count": 11,
      "outputs": []
    },
    {
      "cell_type": "markdown",
      "metadata": {
        "id": "FtTS-7w36_d_"
      },
      "source": [
        "# Concatenate the dataframes"
      ]
    },
    {
      "cell_type": "code",
      "metadata": {
        "id": "YPlokIgvaLjG"
      },
      "source": [
        "main_df = pd.concat([mbert_df, ulmfit_df], axis=1)\r\n",
        "main_df"
      ],
      "execution_count": null,
      "outputs": []
    },
    {
      "cell_type": "code",
      "metadata": {
        "id": "VF5MpvUbYu8U"
      },
      "source": [
        "req_cols = class_list"
      ],
      "execution_count": 18,
      "outputs": []
    },
    {
      "cell_type": "markdown",
      "metadata": {
        "id": "-WtLQbHr7x2w"
      },
      "source": [
        "# The soft voting"
      ]
    },
    {
      "cell_type": "code",
      "metadata": {
        "id": "VFWRuyaxP-7g"
      },
      "source": [
        "def max_cols(row):\r\n",
        "    maxm = []\r\n",
        "    for col in req_cols:\r\n",
        "        # maxm.append((col, 'Score_'+col))\r\n",
        "        maxm.append((col, row[col] + row['Score_'+col]))\r\n",
        "    row['max_both'] = max(maxm, key=lambda x: x[1])[0]\r\n",
        "\r\n",
        "    return pd.Series(row)"
      ],
      "execution_count": 45,
      "outputs": []
    },
    {
      "cell_type": "code",
      "metadata": {
        "id": "UPHU_IF0Yycf"
      },
      "source": [
        "final_df = main_df.apply(lambda x: max_cols(x), axis=1)\n",
        "final_df"
      ],
      "execution_count": null,
      "outputs": []
    },
    {
      "cell_type": "code",
      "metadata": {
        "id": "PH4KdYjAboHS"
      },
      "source": [
        "final_df.head(10)"
      ],
      "execution_count": null,
      "outputs": []
    },
    {
      "cell_type": "markdown",
      "metadata": {
        "id": "qnboTuGP71bs"
      },
      "source": [
        "# Write results to a file"
      ]
    },
    {
      "cell_type": "code",
      "metadata": {
        "id": "9_rjL05UfACx"
      },
      "source": [
        "final_df[['query', 'max_both']].to_excel(f'final_output_{lang}.xlsx', header=None, index=False, encoding='utf-8')"
      ],
      "execution_count": null,
      "outputs": []
    },
    {
      "cell_type": "code",
      "metadata": {
        "id": "wqijAyT09eIR"
      },
      "source": [
        ""
      ],
      "execution_count": null,
      "outputs": []
    }
  ]
}