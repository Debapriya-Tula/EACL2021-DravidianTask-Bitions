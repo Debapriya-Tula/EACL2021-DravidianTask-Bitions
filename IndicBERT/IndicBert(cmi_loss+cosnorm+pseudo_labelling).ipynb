{
 "cells": [
  {
   "cell_type": "code",
   "execution_count": null,
   "metadata": {
    "id": "Yq0DXrKUc7_T"
   },
   "outputs": [],
   "source": [
    "import torch\n",
    "torch.cuda.get_device_name()"
   ]
  },
  {
   "cell_type": "code",
   "execution_count": null,
   "metadata": {
    "id": "rIs4c4S--d_i"
   },
   "outputs": [],
   "source": [
    "from google.colab import drive\n",
    "drive.mount('/content/drive')"
   ]
  },
  {
   "cell_type": "markdown",
   "metadata": {},
   "source": [
    "# Download and install the requirements(restart runtime if using Google Colab)"
   ]
  },
  {
   "cell_type": "code",
   "execution_count": null,
   "metadata": {
    "id": "LeErImK_4kIo"
   },
   "outputs": [],
   "source": [
    "! pip install transformers sentencepiece\n",
    "! pip install polyglot langdetect pyicu pycld2 morfessor pyenchant\n",
    "! pip install indic-nlp-library\n",
    "! sudo apt-get install libenchant1c2a"
   ]
  },
  {
   "cell_type": "markdown",
   "metadata": {},
   "source": [
    "# Importing stock ml libraries"
   ]
  },
  {
   "cell_type": "code",
   "execution_count": null,
   "metadata": {
    "id": "ttRc9v6Uat0b"
   },
   "outputs": [],
   "source": [
    "import numpy as np\n",
    "import pandas as pd\n",
    "from tqdm import tqdm\n",
    "from sklearn import metrics\n",
    "import transformers\n",
    "import torch\n",
    "from torch.utils.data import Dataset, DataLoader, RandomSampler, SequentialSampler\n",
    "from transformers import AutoTokenizer, AutoModelForSequenceClassification, AutoModel"
   ]
  },
  {
   "cell_type": "markdown",
   "metadata": {},
   "source": [
    "# Setting up the device for GPU usage"
   ]
  },
  {
   "cell_type": "code",
   "execution_count": null,
   "metadata": {
    "id": "cOQelRr6bMqb"
   },
   "outputs": [],
   "source": [
    "from torch import cuda\n",
    "device = 'cuda' if cuda.is_available() else 'cpu'\n",
    "device"
   ]
  },
  {
   "cell_type": "markdown",
   "metadata": {
    "id": "wbnLw7rfLOBg"
   },
   "source": [
    "# Choose language "
   ]
  },
  {
   "cell_type": "code",
   "execution_count": null,
   "metadata": {
    "colab": {
     "base_uri": "https://localhost:8080/"
    },
    "id": "UA0g0LH1bOKZ",
    "outputId": "d9b74132-e251-4bf2-aa2e-9e203b8c120c"
   },
   "outputs": [],
   "source": [
    "language = input('Choose language: 1 for tamil, 2 for malayalam, 3 for kannada: ')\n",
    "class_list = ['Not_offensive',\n",
    " 'Offensive_Targeted_Insult_Group',\n",
    " 'Offensive_Targeted_Insult_Individual',\n",
    " 'Offensive_Targeted_Insult_Other',\n",
    " 'Offensive_Untargetede']\n",
    "\n",
    "train_file_name = None\n",
    "dev_file_name = None\n",
    "\n",
    "if language == '1': \n",
    "    language = 'Tamil'\n",
    "    lang = 'ta'\n",
    "    class_list.append('not-Tamil')\n",
    "    train_file_name = 'tamil_offensive_full_train.xlsx'\n",
    "    dev_file_name = 'tamil_offensive_full_dev.xlsx'\n",
    "    test_file_name = 'tamil_offensive_full_test_with_labels.xlsx'\n",
    "elif language == '2': \n",
    "    language = 'malayalam'\n",
    "    lang = 'ml'\n",
    "    # As it contains only 5 classes ('Offensive_Targeted_Insult_Other' is not present)\n",
    "    class_list.append('not-malayalam')\n",
    "    class_list.remove('Offensive_Targeted_Insult_Other')\n",
    "\n",
    "    train_file_name = 'mal_full_offensive_train.xlsx'\n",
    "    dev_file_name = 'mal_full_offensive_dev.xlsx'\n",
    "    test_file_name = 'mal_full_offensive_test_with_labels.xlsx'\n",
    "elif language == '3': \n",
    "    language = 'Kannada'\n",
    "    lang = 'kn'\n",
    "    class_list.append('not-Kannada')\n",
    "    train_file_name = 'kannada_offensive_train.xlsx'\n",
    "    dev_file_name = 'kannada_offensive_dev.xlsx'\n",
    "    test_file_name = 'kannada_offensive_test_with_labels.xlsx'\n"
   ]
  },
  {
   "cell_type": "markdown",
   "metadata": {
    "id": "2OsZM7irsiDr"
   },
   "source": [
    "# Load data into dataframes"
   ]
  },
  {
   "cell_type": "code",
   "execution_count": null,
   "metadata": {
    "colab": {
     "base_uri": "https://localhost:8080/"
    },
    "id": "-ENBN1O_a7H3",
    "outputId": "582c4751-4b2b-4ee1-a7d6-fec3ebeff82b"
   },
   "outputs": [],
   "source": [
    "choose_not_class = input(f\"Do you want to keep the not-{language} class: y or n: \")\n",
    "file_path = input(\"Enter folder path: \")\n",
    "train_file_name = file_path+\"/\"+train_file_name\n",
    "dev_file_name = file_path+\"/\"+dev_file_name\n",
    "test_file_name = file_path+\"/\"+test_file_name\n",
    "\n",
    "if choose_not_class.lower() == 'y':\n",
    "    choose_not_class = True\n",
    "else:\n",
    "    choose_not_class = False\n",
    "\n",
    "\n",
    "train_df = pd.read_excel(train_file_name, header=None)\n",
    "train_df.columns = ['Input', 'Label']\n",
    "train_df = train_df.dropna().drop_duplicates().reset_index(drop=True, inplace=False)\n",
    "\n",
    "dev_df = pd.read_excel(dev_file_name, header=None)\n",
    "dev_df.columns = ['Input', 'Label']\n",
    "\n",
    "test_df = pd.read_excel(test_file_name, header=None, engine='openpyxl')\n",
    "test_df.columns = ['Input', 'Label']\n",
    "\n",
    "\n",
    "if not choose_not_class:\n",
    "    train_df = train_df[train_df['Label'] != f'not-{language}']\n",
    "    dev_df = dev_df[dev_df['Label'] != f'not-{language}']\n",
    "    test_df = test_df[test_df['Label'] != f'not-{language}']\n",
    "\n",
    "    if f'not-{language}' in class_list:\n",
    "        class_list.remove(f'not-{language}')\n",
    "\n",
    "# Labels mapped to integers\n",
    "train_df['Label'] = train_df.apply(lambda x:  class_list.index(x['Label']),axis=1)\n",
    "dev_df['Label'] = dev_df.apply(lambda x:  class_list.index(x['Label']),axis=1)\n",
    "test_df['Label'] = test_df.apply(lambda x:  class_list.index(x['Label']),axis=1)\n",
    "\n",
    "\n",
    "print(f'Number of examples in the train set: {train_df.shape[0]}')\n",
    "print(f'Number of examples in the validation set: {dev_df.shape[0]}')\n",
    "print(f'Number of examples in the test set: {test_df.shape[0]}')"
   ]
  },
  {
   "cell_type": "markdown",
   "metadata": {
    "id": "Od3sxFORtE0o"
   },
   "source": [
    "# How sample data looks like."
   ]
  },
  {
   "cell_type": "code",
   "execution_count": null,
   "metadata": {
    "colab": {
     "base_uri": "https://localhost:8080/",
     "height": 206
    },
    "id": "ILW0BmUrb-mN",
    "outputId": "7f9b5a6e-b066-400a-e4b1-e4108a0afe2b"
   },
   "outputs": [],
   "source": [
    "train_df.head()"
   ]
  },
  {
   "cell_type": "code",
   "execution_count": null,
   "metadata": {
    "colab": {
     "base_uri": "https://localhost:8080/",
     "height": 35
    },
    "id": "v4KOsSr6nryI",
    "outputId": "fc5edc52-b3f3-416c-dad8-f8bbf43bff1a"
   },
   "outputs": [],
   "source": [
    "lang"
   ]
  },
  {
   "cell_type": "markdown",
   "metadata": {},
   "source": [
    "# Create class to index maps for each language"
   ]
  },
  {
   "cell_type": "code",
   "execution_count": null,
   "metadata": {
    "id": "6dlcdD3Kd_gS"
   },
   "outputs": [],
   "source": [
    "dict_ = None\n",
    "\n",
    "if lang == \"kn\":\n",
    "    dict_ = {\n",
    "        'Not_offensive': 0,\n",
    "        'Offensive_Targeted_Insult_Individual': 1,\n",
    "        'not-Kannada': 2,\n",
    "        'Offensive_Targeted_Insult_Group': 3,\n",
    "        'Offensive_Untargetede': 4,\n",
    "        'Offensive_Targeted_Insult_Other': 5\n",
    "    }\n",
    "\n",
    "elif lang == \"ta\":\n",
    "    dict_ = {\n",
    "        'Not_offensive': 0,\n",
    "        'Offensive_Targeted_Insult_Individual': 1,\n",
    "        'not-Tamil': 2,\n",
    "        'Offensive_Targeted_Insult_Group': 3,\n",
    "        'Offensive_Untargetede': 4,\n",
    "        'Offensive_Targeted_Insult_Other': 5\n",
    "    }\n",
    "\n",
    "elif lang == \"ml\":\n",
    "    dict_ = {\n",
    "        'Not_offensive': 0,\n",
    "        'Offensive_Targeted_Insult_Individual': 1,\n",
    "        'not-malayalam': 2,\n",
    "        'Offensive_Targeted_Insult_Group': 3,\n",
    "        'Offensive_Untargetede': 4,\n",
    "    }\n",
    "    \n",
    "n_classes = len(dict_.keys())"
   ]
  },
  {
   "cell_type": "code",
   "execution_count": null,
   "metadata": {
    "colab": {
     "base_uri": "https://localhost:8080/"
    },
    "id": "r49ZIqjd3_mP",
    "outputId": "127dcbcf-c8ff-4889-a8fe-06cb70e02a56"
   },
   "outputs": [],
   "source": [
    "## used by cmi\n",
    "from IPython.utils import io\n",
    "import polyglot\n",
    "from polyglot.text import Text, Word\n",
    "import nltk\n",
    "from nltk.tokenize import word_tokenize\n",
    "nltk.download('punkt')\n",
    "import warnings\n",
    "import enchant\n",
    "from enchant.checker import SpellChecker\n",
    "import re\n",
    "from indicnlp.tokenize.indic_tokenize import trivial_tokenize\n",
    "\n",
    "chkr = SpellChecker(\"en_US\")\n",
    "d = enchant.Dict(\"en_US\")\n",
    "\n",
    "def parse_input(text, base_lang):\n",
    "    base_lang_regex_map = {\n",
    "        \"ml\": '0d[0-7][0-9A-F]',\n",
    "        \"ta\": '0b[89A-F][0-9A-F]',\n",
    "        \"kn\": '0c[89A-F][0-9A-F]'\n",
    "    }\n",
    "\n",
    "    # tokenizer = nltk.tokenize.TweetTokenizer()\n",
    "    # sentence_list = tokenizer.tokenize(text)\n",
    "\n",
    "    sentence_list = trivial_tokenize(text)\n",
    "\n",
    "    labelled_input = []\n",
    "    \n",
    "    for word in sentence_list:\n",
    "        # word = word.encode('ascii', 'ignore').decode('ascii')\n",
    "        x = Text(word)\n",
    "        chkr.set_text(word)\n",
    "\n",
    "        flag  = 0\n",
    "        # check for native language using utf-8 codes\n",
    "        # logic: if the word is in native script then the language is native becasue no one writes english in native script\n",
    "        if all([re.search(base_lang_regex_map[base_lang], \"%04x\"%(ord(char))) for char in word]):\n",
    "            labelled_input.append(word + f'/{base_lang}')\n",
    "            flag = 1\n",
    "        \n",
    "        # check if language is english\n",
    "        # logic: if the word is in roman script and it is a proper english word (when we check with oxford), it is obviously english\n",
    "        elif word.isalpha():\n",
    "            if d.check(word): \n",
    "                labelled_input.append(word + f'/en')\n",
    "                flag = 1\n",
    "            # else:\n",
    "            #     try:\n",
    "            #         # inspired by: https://stackoverflow.com/questions/31026394/how-to-correct-text-and-return-the-corrected-text-automatically-with-pyenchant\n",
    "            #         if d.check(next(chkr).suggest()[0]):\n",
    "            #             labelled_input.append(word + f'/en')\n",
    "            #             flag = 1\n",
    "            #     except Exception as exc:\n",
    "            #         print(exc)\n",
    "                    \n",
    "        # use the polyglot library\n",
    "        if not flag:\n",
    "            if x.language.code == base_lang:\n",
    "                labelled_input.append(word + f'/{base_lang}')\n",
    "            elif x.language.code == 'en':\n",
    "                labelled_input.append(word + f'/en')\n",
    "            else:\n",
    "                labelled_input.append(word + f'/O')\n",
    "\n",
    "    labelled_input = ' '.join(labelled_input)\n",
    "\n",
    "    return labelled_input"
   ]
  },
  {
   "cell_type": "code",
   "execution_count": null,
   "metadata": {
    "id": "eSx_ou_n65ht"
   },
   "outputs": [],
   "source": [
    "## used by cmi\n",
    "%%capture\n",
    "import copy\n",
    "\n",
    "processed_df = train_df.copy(deep=True)\n",
    "processed_df['Input'] = processed_df['Input'].apply(str)\n",
    "processed_df['Input'] = processed_df['Input'].apply(lambda x: parse_input(x, lang))"
   ]
  },
  {
   "cell_type": "code",
   "execution_count": null,
   "metadata": {
    "id": "D_le8JwybcTq"
   },
   "outputs": [],
   "source": [
    "%%capture\n",
    "val_processed_df = dev_df.copy(deep=True)\n",
    "val_processed_df['Input'] = val_processed_df['Input'].apply(str)\n",
    "val_processed_df['Input'] = val_processed_df['Input'].apply(lambda x: parse_input(x, lang))"
   ]
  },
  {
   "cell_type": "code",
   "execution_count": null,
   "metadata": {
    "id": "HZDDcfABMK0u"
   },
   "outputs": [],
   "source": [
    "%%capture\n",
    "test_processed_df = test_df.copy(deep=True)\n",
    "test_processed_df['Input'] = test_processed_df['Input'].apply(str)\n",
    "test_processed_df['Input'] = test_processed_df['Input'].apply(lambda x: parse_input(x, lang))"
   ]
  },
  {
   "cell_type": "code",
   "execution_count": null,
   "metadata": {
    "colab": {
     "base_uri": "https://localhost:8080/",
     "height": 322
    },
    "id": "EXnGfyyh0Pzs",
    "outputId": "624c3553-2705-4b6a-a686-b5ce2e100ba8"
   },
   "outputs": [],
   "source": [
    "train_df.head(10)"
   ]
  },
  {
   "cell_type": "code",
   "execution_count": null,
   "metadata": {
    "colab": {
     "base_uri": "https://localhost:8080/",
     "height": 363
    },
    "id": "hQWGyYfR84M0",
    "outputId": "abbe26c7-e87f-4dd6-9bcc-6871197c8ca5"
   },
   "outputs": [],
   "source": [
    "processed_df.head(10)"
   ]
  },
  {
   "cell_type": "code",
   "execution_count": null,
   "metadata": {
    "id": "I_YQx8tmAaMc"
   },
   "outputs": [],
   "source": [
    "def to_str(text):\n",
    "    tt = text['Input']\n",
    "    if not isinstance(tt, str):\n",
    "        tt = str(tt)\n",
    "    return pd.Series([tt, text['Label']])"
   ]
  },
  {
   "cell_type": "markdown",
   "metadata": {},
   "source": [
    "# Sections of config - Defining some key variables that will be used later on in the training"
   ]
  },
  {
   "cell_type": "code",
   "execution_count": null,
   "metadata": {
    "colab": {
     "base_uri": "https://localhost:8080/",
     "height": 81,
     "referenced_widgets": [
      "a7c1c1517a564c15b1c68aef8119c846",
      "35d816376b7a4747b13c1a7ab15936d6",
      "2b93c464d01f45f78a7b1334d747ef50",
      "6e7a5f6df64040eb82474a4b7fd24152",
      "4ba5b89dfc4546b3a11785be4aec677f",
      "67026837f4c045e4a45321b86548f1d9",
      "f83e14c4af6a42baa72be404bd05d3bd",
      "4d787fd696c841269760b49fe7026511",
      "c1b5cfa96a0f429e8952352f900fcf4d",
      "1b342594de364bc78f41dcd255e17184",
      "c34dcad9377c4c029f7903bc0c803ff3",
      "501a3221738e4592bbaa379dc68dcf89",
      "1fb0fb15a09f40099d4340bbf0f90308",
      "51b6778b7ccc4b3da7e76fe8a54b3c9d",
      "5d80aa8afdbf4625a07ee3269bba7d13",
      "39b3215e92c54a2eb32b02ac3eb79d08",
      "86f01c0816254e379a071b80ebc87775",
      "0c1662a124d74ef794a0381fd98b1bbe",
      "089df84e5e1447a49710540e8b768e5b",
      "7a3d236763764c7da94027ed66f3d645",
      "c4ab4fb99e6e41df8def920c90440a15",
      "3a48cd507f00431a995406a63c19e0da"
     ]
    },
    "id": "3fVv0cqGb-Ih",
    "outputId": "1d0a2c87-ec9d-406a-d717-facd17225e7f"
   },
   "outputs": [],
   "source": [
    "MAX_LEN = 200\n",
    "TRAIN_BATCH_SIZE = 32\n",
    "VALID_BATCH_SIZE = 16\n",
    "EPOCHS = 5\n",
    "LEARNING_RATE = 1e-05\n",
    "tokenizer = AutoTokenizer.from_pretrained('ai4bharat/indic-bert')"
   ]
  },
  {
   "cell_type": "code",
   "execution_count": null,
   "metadata": {
    "id": "lYaGZ0sS154a"
   },
   "outputs": [],
   "source": [
    "class CustomDataset(Dataset):\n",
    "\n",
    "    def __init__(self, dataframe, tokenizer, max_len):\n",
    "        self.tokenizer = tokenizer\n",
    "        self.data = dataframe\n",
    "        self.sent = dataframe.Input\n",
    "        self.targets = dataframe.Label\n",
    "        self.max_len = max_len\n",
    "\n",
    "    def __len__(self):\n",
    "        return len(self.sent)\n",
    "\n",
    "    def __getitem__(self, index):\n",
    "        sent = str(self.sent[index])\n",
    "        sent = \" \".join(sent.split())\n",
    "\n",
    "        inputs = self.tokenizer.encode_plus(\n",
    "            sent,\n",
    "            None,\n",
    "            add_special_tokens=True,\n",
    "            max_length=self.max_len,\n",
    "            pad_to_max_length=True,\n",
    "            return_token_type_ids=True\n",
    "        )\n",
    "        ids = inputs['input_ids']\n",
    "        mask = inputs['attention_mask']\n",
    "        token_type_ids = inputs[\"token_type_ids\"]\n",
    "\n",
    "\n",
    "        return {\n",
    "            'ids': torch.tensor(ids, dtype=torch.long),\n",
    "            'mask': torch.tensor(mask, dtype=torch.long),\n",
    "            'token_type_ids': torch.tensor(token_type_ids, dtype=torch.long),\n",
    "            'targets': torch.tensor(self.targets[index], dtype=torch.long)\n",
    "        }"
   ]
  },
  {
   "cell_type": "code",
   "execution_count": null,
   "metadata": {
    "id": "srCup1HqdGDh"
   },
   "outputs": [],
   "source": [
    "training_set = CustomDataset(train_df, tokenizer, MAX_LEN)\n",
    "testing_set = CustomDataset(dev_df, tokenizer, MAX_LEN)\n",
    "\n",
    "real_testing_set = CustomDataset(test_df, tokenizer, MAX_LEN)"
   ]
  },
  {
   "cell_type": "code",
   "execution_count": null,
   "metadata": {
    "id": "QV00AJiIdJIL"
   },
   "outputs": [],
   "source": [
    "train_params = {'batch_size': TRAIN_BATCH_SIZE,\n",
    "                'shuffle': True,\n",
    "                'num_workers': 0\n",
    "                }\n",
    "\n",
    "test_params = {'batch_size': VALID_BATCH_SIZE,\n",
    "                'shuffle': False,\n",
    "                'num_workers': 0\n",
    "                }\n",
    "\n",
    "training_loader = DataLoader(training_set, **train_params)\n",
    "testing_loader = DataLoader(testing_set, **test_params)\n",
    "real_test_loader = DataLoader(real_testing_set, **test_params)"
   ]
  },
  {
   "cell_type": "markdown",
   "metadata": {
    "id": "yFpidVtoMXHH"
   },
   "source": [
    "# Whether to use cosnorm"
   ]
  },
  {
   "cell_type": "code",
   "execution_count": null,
   "metadata": {
    "colab": {
     "base_uri": "https://localhost:8080/"
    },
    "id": "oaqFmNTLMWcd",
    "outputId": "720a7a55-fbd7-417b-826d-0c728a932013"
   },
   "outputs": [],
   "source": [
    "cosnorm = input('Enter y if cosnorm to be used else n: ')\n",
    "\n",
    "if cosnorm.lower() == 'y':\n",
    "    cosnorm = True\n",
    "else:\n",
    "    cosnorm = False"
   ]
  },
  {
   "cell_type": "code",
   "execution_count": null,
   "metadata": {
    "colab": {
     "base_uri": "https://localhost:8080/",
     "height": 140,
     "referenced_widgets": [
      "f78b355d1037458d8060bb545c48e523",
      "1817ff41d2f84fc0ae857be88a422ccd",
      "f6d59a41b12f4c09aa8c2415494b5797",
      "3f55defb9a1b47d9ac90a6b04841cafc",
      "15a37f7826fd4b969d97986fa4808abd",
      "2c2f248cdacc4e2aac15e5756b789d8d",
      "4e3b4908285b4f2894988a912210ef54",
      "70937098627b4e7bbe4162c31432a6a0",
      "457d5db4606447f9b3cbf3add4a19bf9",
      "44adb228153a495e99b165c6fa72b0f6",
      "66bf01a7808b410c8a32f765d4f60260"
     ]
    },
    "id": "hs6PAClyy8xl",
    "outputId": "ccc90528-824f-42da-c6f7-d0b6c893aaa4"
   },
   "outputs": [],
   "source": [
    "if cosnorm:\n",
    "    from cosnorm import CosNorm_Classifier\n",
    "\n",
    "class AlbertClass(torch.nn.Module):\n",
    "    def __init__(self):\n",
    "        super(AlbertClass, self).__init__()\n",
    "        self.l1 = AutoModel.from_pretrained(\"ai4bharat/indic-bert\")\n",
    "        self.pre_classifier = torch.nn.Linear(768, 768)\n",
    "        self.dropout = torch.nn.Dropout(0.3)\n",
    "        self.classifier1 = torch.nn.Linear(768, n_classes)\n",
    "        if cosnorm:\n",
    "            self.classifier2 = CosNorm_Classifier(768, n_classes)\n",
    "\n",
    "    def forward(self, input_ids, attention_mask, token_type_ids):\n",
    "        output_1 = self.l1(input_ids=input_ids, attention_mask=attention_mask, token_type_ids=token_type_ids)\n",
    "        pooler = self.pre_classifier(output_1['pooler_output'])\n",
    "        pooler = torch.nn.ReLU()(pooler)\n",
    "        pooler = self.dropout(pooler)\n",
    "\n",
    "        if cosnorm is True:\n",
    "            output = self.classifier2(pooler)\n",
    "        else:\n",
    "            output = self.classifier1(pooler)\n",
    "        return output\n",
    "\n",
    "model = AlbertClass()\n",
    "model.to(device)\n",
    "print('Loaded!')"
   ]
  },
  {
   "cell_type": "code",
   "execution_count": null,
   "metadata": {
    "id": "JyCA2XTvo8sz"
   },
   "outputs": [],
   "source": [
    "weight = None\n",
    "\n",
    "if lang == \"kn\":\n",
    "    weight = (torch.tensor([1/3382,1/486,1/1407,1/327,1/212,1/122])).cuda()\n",
    "elif lang == \"ta\":\n",
    "    weight = (torch.tensor([1/25215, 1/1447, 1/2338, 1/2550, 1/2894, 1/454])).cuda()\n",
    "else: \n",
    "    weight = (torch.tensor([1/10382,1/171,1/882,1/106,1/154])).cuda()"
   ]
  },
  {
   "cell_type": "code",
   "execution_count": null,
   "metadata": {
    "colab": {
     "base_uri": "https://localhost:8080/"
    },
    "id": "xUT9206qdsfJ",
    "outputId": "1e6bb577-d192-44f6-c61e-d8a7a2a4bf69"
   },
   "outputs": [],
   "source": [
    "from cmi_loss import CMILoss\n",
    "\n",
    "use_cmi = input(\"Enter 1 for cmi loss, anything else for cross entropy: \")\n",
    "\n",
    "loss_function = None\n",
    "\n",
    "if use_cmi == 1:\n",
    "    loss_function = CMILoss(weight=weight)\n",
    "else: \n",
    "    loss_function = torch.nn.CrossEntropyLoss(weight = weight)\n",
    "\n",
    "optimizer = torch.optim.Adam(params =  model.parameters(), lr=LEARNING_RATE)"
   ]
  },
  {
   "cell_type": "code",
   "execution_count": null,
   "metadata": {
    "id": "wvF95kfgwupo"
   },
   "outputs": [],
   "source": [
    "def calcuate_accuracy(preds, targets):\n",
    "    n_correct = (preds==targets).sum().item()\n",
    "    return n_correct"
   ]
  },
  {
   "cell_type": "code",
   "execution_count": null,
   "metadata": {
    "id": "7f35NqIPWd6U"
   },
   "outputs": [],
   "source": [
    "losslsit = []\n",
    "acclist = []"
   ]
  },
  {
   "cell_type": "markdown",
   "metadata": {},
   "source": [
    "# Train loop"
   ]
  },
  {
   "cell_type": "code",
   "execution_count": null,
   "metadata": {
    "id": "fzfAlP05dwuf"
   },
   "outputs": [],
   "source": [
    "def train(epoch):\n",
    "    tr_loss = 0\n",
    "    n_correct = 0\n",
    "    nb_tr_steps = 0\n",
    "    nb_tr_examples = 0\n",
    "    \n",
    "    model.train()\n",
    "    for _,data in enumerate(training_loader):\n",
    "        ids = data['ids'].to(device, dtype = torch.long)\n",
    "        mask = data['mask'].to(device, dtype = torch.long)\n",
    "        token_type_ids = data['token_type_ids'].to(device, dtype = torch.long)\n",
    "        targets = data['targets'].to(device, dtype = torch.long)\n",
    "\n",
    "        outputs = model(ids, mask, token_type_ids)\n",
    "        \n",
    "        loss = None\n",
    "\n",
    "        #CE\n",
    "        if use_cmi == 1:\n",
    "            loss = loss_function(outputs, targets, processed_df, lang)\n",
    "\n",
    "        # CMI\n",
    "        else:\n",
    "            loss = loss_function(outputs, targets)\n",
    "        \n",
    "        # print(loss)\n",
    "        tr_loss += loss.item()\n",
    "        big_val, big_idx = torch.max(outputs.data, dim=1)\n",
    "        n_correct += calcuate_accuracy(big_idx, targets)\n",
    "        nb_tr_steps += 1\n",
    "        nb_tr_examples+=targets.size(0)\n",
    "        #print(targets)\n",
    "        optimizer.zero_grad()\n",
    "        loss.backward()\n",
    "        optimizer.step()\n",
    "        \n",
    "    print(f'The Total Accuracy for Epoch {epoch} : {(n_correct*100)/nb_tr_examples}')\n",
    "    epoch_loss = tr_loss/nb_tr_steps\n",
    "    epoch_accu = (n_correct*100)/nb_tr_examples\n",
    "    losslsit.append(float(epoch_loss))\n",
    "    acclist.append(float(epoch_accu))\n",
    "    print(f\"Training Loss Epoch: {epoch_loss}\")\n",
    "    print(f\"Training Accuracy Epoch: {epoch_accu}\")"
   ]
  },
  {
   "cell_type": "code",
   "execution_count": null,
   "metadata": {
    "id": "NnZLcUu7TeHw"
   },
   "outputs": [],
   "source": [
    "# model.load_state_dict(torch.load(\"/content/drive/MyDrive/Datasets/models/kan/CMI_model_18_epochs.pth\"))"
   ]
  },
  {
   "cell_type": "code",
   "execution_count": null,
   "metadata": {
    "colab": {
     "base_uri": "https://localhost:8080/",
     "height": 456
    },
    "id": "LsCzkcxWd13H",
    "outputId": "e49522d8-111a-4395-cd1e-4cea251576d1"
   },
   "outputs": [],
   "source": [
    "EPOCHS=41\n",
    "\n",
    "for epoch in range(1,EPOCHS+1):\n",
    "    train(epoch)\n",
    "    if (epoch) % 3 == 0:\n",
    "        torch.save(model.state_dict(),f\"/content/drive/MyDrive/Datasets/models/kan/CMI_model_{epoch}_epochs.pth\")"
   ]
  },
  {
   "cell_type": "code",
   "execution_count": null,
   "metadata": {
    "colab": {
     "base_uri": "https://localhost:8080/",
     "height": 283
    },
    "id": "6zErunwbyLYQ",
    "outputId": "7921918e-0fc7-4e8f-e736-15154939a8bb"
   },
   "outputs": [],
   "source": [
    "import matplotlib\n",
    "matplotlib.pyplot.plot(range(len(losslsit)),losslsit)"
   ]
  },
  {
   "cell_type": "code",
   "execution_count": null,
   "metadata": {
    "colab": {
     "base_uri": "https://localhost:8080/",
     "height": 283
    },
    "id": "-aWR9lOyyfJb",
    "outputId": "5c23a059-a3f5-4271-b782-b367f22d3add"
   },
   "outputs": [],
   "source": [
    "matplotlib.pyplot.plot(range(len(acclist)),acclist)"
   ]
  },
  {
   "cell_type": "code",
   "execution_count": null,
   "metadata": {
    "id": "_EDG4Zq53tbT"
   },
   "outputs": [],
   "source": [
    "from sklearn.metrics import accuracy_score, f1_score, precision_score, recall_score,confusion_matrix, classification_report\n",
    "\n",
    "def print_metrices(pred,true):\n",
    "    print(confusion_matrix(true,pred))\n",
    "    print(classification_report(true,pred,))\n",
    "    print(\"Accuracy : \",accuracy_score(pred,true))\n",
    "    print(\"Precison : \",precision_score(pred,true, average = 'weighted'))\n",
    "    print(\"Recall : \",recall_score(pred,true,  average = 'weighted'))\n",
    "    print(\"F1 : \",f1_score(pred,true,  average = 'weighted'))"
   ]
  },
  {
   "cell_type": "code",
   "execution_count": null,
   "metadata": {
    "id": "O9ZQWtwFd5hc"
   },
   "outputs": [],
   "source": [
    "import sklearn\n",
    "def valid(model, testing_loader):\n",
    "    model.eval()\n",
    "    n_correct = 0; n_wrong = 0; total = 0; tr_loss=0; nb_tr_steps=0; nb_tr_examples=0\n",
    "    y_true=torch.tensor([])\n",
    "    y_pred=torch.tensor([])\n",
    "    idx = []\n",
    "    with torch.no_grad():\n",
    "        for _, data in enumerate(testing_loader):\n",
    "            ids = data['ids'].to(device, dtype = torch.long)\n",
    "            mask = data['mask'].to(device, dtype = torch.long)\n",
    "            token_type_ids = data['token_type_ids'].to(device, dtype=torch.long)\n",
    "            targets = data['targets'].to(device, dtype = torch.long)\n",
    "            outputs = model(ids, mask, token_type_ids).squeeze()\n",
    "            loss = loss_function(outputs, targets, val_processed_df, \"kn\")\n",
    "            tr_loss += loss.item()\n",
    "            big_val, big_idx = torch.max(outputs.data, dim=1)\n",
    "            idx.extend(big_idx)\n",
    "            n_correct += calcuate_accuracy(big_idx, targets)\n",
    "            y_pred = torch.cat((y_pred, big_idx.detach().cpu()),0)\n",
    "            y_true = torch.cat((y_true,targets.detach().cpu()),0)\n",
    "            nb_tr_steps += 1\n",
    "            nb_tr_examples+=targets.size(0)\n",
    "            \n",
    "    epoch_loss = tr_loss/nb_tr_steps\n",
    "    epoch_accu = (n_correct*100)/nb_tr_examples\n",
    "    print(f\"Validation Loss Epoch: {epoch_loss}\")\n",
    "    print(f\"Validation Accuracy Epoch: {epoch_accu}\")\n",
    "    y_true = y_true.detach().cpu().numpy()\n",
    "    y_pred = y_pred.detach().cpu().numpy()\n",
    "    # scores = metrics.precision_recall_fscore_support(y_true,y_pred, average=None,\n",
    "    #                                                    labels = [0,1,2,3,4,5])\n",
    "    # print(f\"Precision: {scores[0]}\")\n",
    "    # print(f\"Recall:    {scores[1]}\")\n",
    "    # print(f\"f1:        {scores[2]}\")\n",
    "    # print(f\"support.   {scores[3]}\")\n",
    "    #print(sklearn.metrics.classification_report(y_true,y_pred))\n",
    "\n",
    "    print_metrices(y_pred,y_true)\n",
    "    return epoch_accu"
   ]
  },
  {
   "cell_type": "code",
   "execution_count": null,
   "metadata": {
    "colab": {
     "base_uri": "https://localhost:8080/"
    },
    "id": "6FpFLAhZyB00",
    "outputId": "b466cfde-9e22-4701-dc80-fd525dd8d094"
   },
   "outputs": [],
   "source": [
    "acc = valid(model, testing_loader)\n",
    "print(f\"Accuracy on test data = {acc}\")"
   ]
  },
  {
   "cell_type": "code",
   "execution_count": null,
   "metadata": {
    "id": "dMgWk0DCD98N"
   },
   "outputs": [],
   "source": [
    "# torch.save(model.state_dict(),f\"/content/drive/MyDrive/Datasets/Eacl_Kannada_model/Kannada_model_{len(acclist)}_epochs.pth\")"
   ]
  },
  {
   "cell_type": "code",
   "execution_count": null,
   "metadata": {
    "id": "RnLiQYy_nI-H"
   },
   "outputs": [],
   "source": [
    "def test(model, testing_loader):\n",
    "    model.eval()\n",
    "    n_correct = 0; n_wrong = 0; total = 0; tr_loss=0; nb_tr_steps=0; nb_tr_examples=0\n",
    "    y_true=torch.tensor([])\n",
    "    y_pred=torch.tensor([])\n",
    "\n",
    "    idx = []\n",
    "    with torch.no_grad():\n",
    "        save_df = {\"Not_offensive\" : [],\n",
    "                   'Offensive_Targeted_Insult_Group' :[],\n",
    "                   'Offensive_Targeted_Insult_Individual' : [],\n",
    "                   'Offensive_Untargetede' : [],\n",
    "                   f'not-{language}' : [],\n",
    "                   \"Inputs\" : [],\n",
    "                   \"Correct Label\" : [],\n",
    "                   \"Predicted Label\" : [],\n",
    "        }\n",
    "        if language!=\"malayalam\":\n",
    "            save_df['Offensive_Targeted_Insult_Other'] = []\n",
    "\n",
    "        full_op = torch.Tensor([])\n",
    "        full_gt = torch.Tensor([])\n",
    "        full_pred = torch.Tensor([])\n",
    "        full_ip = []\n",
    "\n",
    "        for i, data in enumerate(testing_loader):\n",
    "            ids = data['ids'].to(device, dtype = torch.long)\n",
    "            mask = data['mask'].to(device, dtype = torch.long)\n",
    "            token_type_ids = data['token_type_ids'].to(device, dtype=torch.long)\n",
    "            targets = data['targets'].to(device, dtype = torch.long)\n",
    "            outputs = model(ids, mask, token_type_ids).squeeze()\n",
    "\n",
    "            full_ip.append(ids.detach().cpu()) # [x,16,200]\n",
    "\n",
    "            # shape is [16,x] for most variables\n",
    "            # need to make it [-1,x]\n",
    "            # take variable and keep concatenating\n",
    "            full_op = torch.cat((full_op, outputs.detach().cpu()),dim=0)\n",
    "            \n",
    "            loss = loss_function(outputs, targets, val_processed_df, \"kn\")\n",
    "            tr_loss += loss.item()\n",
    "            big_val, big_idx = torch.max(outputs.data, dim=1)\n",
    "            idx.extend(big_idx)\n",
    "            n_correct += calcuate_accuracy(big_idx, targets)\n",
    "            y_pred = torch.cat((y_pred, big_idx.detach().cpu()),0)\n",
    "            y_true = torch.cat((y_true,targets.detach().cpu()),0)\n",
    "            nb_tr_steps += 1\n",
    "            nb_tr_examples+=targets.size(0)\n",
    "\n",
    "\n",
    "        save_df[\"Inputs\"] = [x for x in dev_df[\"Input\"]]\n",
    "        save_df[\"Predicted Label\"] = [class_list[int(i)] for i in y_pred]\n",
    "        save_df[\"Correct Label\"] = [class_list[int(i)] for i in y_true]\n",
    "        \n",
    "\n",
    "        save_df[\"Not_offensive\"] = full_op[:,class_list.index(\"Not_offensive\")]\n",
    "        save_df[\"Offensive_Targeted_Insult_Group\"] = full_op[:,class_list.index(\"Offensive_Targeted_Insult_Group\")]\n",
    "        save_df[\"Offensive_Targeted_Insult_Individual\"] = full_op[:,class_list.index(\"Offensive_Targeted_Insult_Individual\")]\n",
    "        if language != \"malayalam\":\n",
    "            save_df[\"Offensive_Targeted_Insult_Other\"] = (full_op[:,class_list.index(\"Offensive_Targeted_Insult_Other\")])\n",
    "        save_df[\"Offensive_Untargetede\"] = (full_op[:,class_list.index(\"Offensive_Untargetede\")])\n",
    "        save_df[f'not-{language}'] = (full_op[:,class_list.index(f\"not-{language}\")])\n",
    "        \n",
    "        print(save_df[\"Inputs\"][0])\n",
    "        print(test_df[\"Input\"][0])\n",
    "        print(save_df[\"Predicted Label\"][0])\n",
    "        print(save_df[\"Correct Label\"][0])\n",
    "        print(save_df[\"Not_offensive\"][0])\n",
    "        print(save_df[\"Offensive_Targeted_Insult_Group\"][0])\n",
    "        print(save_df[\"Offensive_Targeted_Insult_Individual\"][0])\n",
    "        if lang!= \"ml\":\n",
    "            print(save_df[\"Offensive_Targeted_Insult_Other\"][0])\n",
    "        print(save_df[\"Offensive_Untargetede\"][0])\n",
    "        print(save_df[f'not-{language}'][0])\n",
    "\n",
    "    epoch_loss = tr_loss/nb_tr_steps\n",
    "    epoch_accu = (n_correct*100)/nb_tr_examples\n",
    "    print(f\"Validation Loss Epoch: {epoch_loss}\")\n",
    "    print(f\"Validation Accuracy Epoch: {epoch_accu}\")\n",
    "    y_true = y_true.detach().cpu().numpy()\n",
    "    y_pred = y_pred.detach().cpu().numpy()\n",
    "    # scores = metrics.precision_recall_fscore_support(y_true,y_pred, average=None,\n",
    "    #                                                    labels = [0,1,2,3,4,5])\n",
    "    # print(f\"Precision: {scores[0]}\")\n",
    "    # print(f\"Recall:    {scores[1]}\")\n",
    "    # print(f\"f1:        {scores[2]}\")\n",
    "    # print(f\"support.   {scores[3]}\")\n",
    "    #print(sklearn.metrics.classification_report(y_true,y_pred))\n",
    "\n",
    "    print_metrices(y_pred,y_true)\n",
    "    return epoch_accu, save_df"
   ]
  },
  {
   "cell_type": "code",
   "execution_count": null,
   "metadata": {
    "colab": {
     "base_uri": "https://localhost:8080/"
    },
    "id": "pQavSh4_Oykx",
    "outputId": "193ef0cb-ff0c-4d94-f5c4-7d3021e0d5b1"
   },
   "outputs": [],
   "source": [
    "acc,save_dict = test(model, testing_loader)"
   ]
  },
  {
   "cell_type": "code",
   "execution_count": null,
   "metadata": {
    "colab": {
     "base_uri": "https://localhost:8080/"
    },
    "id": "994e9Z9mO01L",
    "outputId": "9c5719d7-185f-4773-9027-805db2df3d04"
   },
   "outputs": [],
   "source": [
    "for key in save_dict.keys():\n",
    "    print(key, \" : \", len(save_dict[key]))"
   ]
  },
  {
   "cell_type": "code",
   "execution_count": null,
   "metadata": {
    "id": "5sJllUODnFqA"
   },
   "outputs": [],
   "source": [
    "save_df = pd.DataFrame(save_dict)"
   ]
  },
  {
   "cell_type": "code",
   "execution_count": null,
   "metadata": {
    "colab": {
     "base_uri": "https://localhost:8080/",
     "height": 787
    },
    "id": "3HRkKNmgrMhs",
    "outputId": "e9bdf841-cd94-467f-9527-016267cafe7f"
   },
   "outputs": [],
   "source": [
    "save_df.head()"
   ]
  },
  {
   "cell_type": "code",
   "execution_count": null,
   "metadata": {
    "id": "9pywSjtzsHN8"
   },
   "outputs": [],
   "source": [
    "save_df.to_excel(f\"/content/drive/MyDrive/Datasets/Predictions/CMI_IndicBert_{language}_predictions.xlsx\", encoding=\"utf-8\")"
   ]
  }
 ],
 "metadata": {
  "accelerator": "GPU",
  "colab": {
   "collapsed_sections": [],
   "name": "Copy of Cosnorm_CMI_indicbert.ipynb",
   "provenance": []
  },
  "kernelspec": {
   "display_name": "Python 3 (ipykernel)",
   "language": "python",
   "name": "python3"
  },
  "language_info": {
   "codemirror_mode": {
    "name": "ipython",
    "version": 3
   },
   "file_extension": ".py",
   "mimetype": "text/x-python",
   "name": "python",
   "nbconvert_exporter": "python",
   "pygments_lexer": "ipython3",
   "version": "3.8.10"
  },
  "widgets": {
   "application/vnd.jupyter.widget-state+json": {
    "089df84e5e1447a49710540e8b768e5b": {
     "model_module": "@jupyter-widgets/base",
     "model_module_version": "1.2.0",
     "model_name": "LayoutModel",
     "state": {
      "_model_module": "@jupyter-widgets/base",
      "_model_module_version": "1.2.0",
      "_model_name": "LayoutModel",
      "_view_count": null,
      "_view_module": "@jupyter-widgets/base",
      "_view_module_version": "1.2.0",
      "_view_name": "LayoutView",
      "align_content": null,
      "align_items": null,
      "align_self": null,
      "border": null,
      "bottom": null,
      "display": null,
      "flex": null,
      "flex_flow": null,
      "grid_area": null,
      "grid_auto_columns": null,
      "grid_auto_flow": null,
      "grid_auto_rows": null,
      "grid_column": null,
      "grid_gap": null,
      "grid_row": null,
      "grid_template_areas": null,
      "grid_template_columns": null,
      "grid_template_rows": null,
      "height": null,
      "justify_content": null,
      "justify_items": null,
      "left": null,
      "margin": null,
      "max_height": null,
      "max_width": null,
      "min_height": null,
      "min_width": null,
      "object_fit": null,
      "object_position": null,
      "order": null,
      "overflow": null,
      "overflow_x": null,
      "overflow_y": null,
      "padding": null,
      "right": null,
      "top": null,
      "visibility": null,
      "width": null
     }
    },
    "0c1662a124d74ef794a0381fd98b1bbe": {
     "model_module": "@jupyter-widgets/controls",
     "model_module_version": "1.5.0",
     "model_name": "DescriptionStyleModel",
     "state": {
      "_model_module": "@jupyter-widgets/controls",
      "_model_module_version": "1.5.0",
      "_model_name": "DescriptionStyleModel",
      "_view_count": null,
      "_view_module": "@jupyter-widgets/base",
      "_view_module_version": "1.2.0",
      "_view_name": "StyleView",
      "description_width": ""
     }
    },
    "15a37f7826fd4b969d97986fa4808abd": {
     "model_module": "@jupyter-widgets/base",
     "model_module_version": "1.2.0",
     "model_name": "LayoutModel",
     "state": {
      "_model_module": "@jupyter-widgets/base",
      "_model_module_version": "1.2.0",
      "_model_name": "LayoutModel",
      "_view_count": null,
      "_view_module": "@jupyter-widgets/base",
      "_view_module_version": "1.2.0",
      "_view_name": "LayoutView",
      "align_content": null,
      "align_items": null,
      "align_self": null,
      "border": null,
      "bottom": null,
      "display": null,
      "flex": null,
      "flex_flow": null,
      "grid_area": null,
      "grid_auto_columns": null,
      "grid_auto_flow": null,
      "grid_auto_rows": null,
      "grid_column": null,
      "grid_gap": null,
      "grid_row": null,
      "grid_template_areas": null,
      "grid_template_columns": null,
      "grid_template_rows": null,
      "height": null,
      "justify_content": null,
      "justify_items": null,
      "left": null,
      "margin": null,
      "max_height": null,
      "max_width": null,
      "min_height": null,
      "min_width": null,
      "object_fit": null,
      "object_position": null,
      "order": null,
      "overflow": null,
      "overflow_x": null,
      "overflow_y": null,
      "padding": null,
      "right": null,
      "top": null,
      "visibility": null,
      "width": null
     }
    },
    "1817ff41d2f84fc0ae857be88a422ccd": {
     "model_module": "@jupyter-widgets/controls",
     "model_module_version": "1.5.0",
     "model_name": "HTMLModel",
     "state": {
      "_dom_classes": [],
      "_model_module": "@jupyter-widgets/controls",
      "_model_module_version": "1.5.0",
      "_model_name": "HTMLModel",
      "_view_count": null,
      "_view_module": "@jupyter-widgets/controls",
      "_view_module_version": "1.5.0",
      "_view_name": "HTMLView",
      "description": "",
      "description_tooltip": null,
      "layout": "IPY_MODEL_2c2f248cdacc4e2aac15e5756b789d8d",
      "placeholder": "​",
      "style": "IPY_MODEL_4e3b4908285b4f2894988a912210ef54",
      "value": "Downloading: 100%"
     }
    },
    "1b342594de364bc78f41dcd255e17184": {
     "model_module": "@jupyter-widgets/base",
     "model_module_version": "1.2.0",
     "model_name": "LayoutModel",
     "state": {
      "_model_module": "@jupyter-widgets/base",
      "_model_module_version": "1.2.0",
      "_model_name": "LayoutModel",
      "_view_count": null,
      "_view_module": "@jupyter-widgets/base",
      "_view_module_version": "1.2.0",
      "_view_name": "LayoutView",
      "align_content": null,
      "align_items": null,
      "align_self": null,
      "border": null,
      "bottom": null,
      "display": null,
      "flex": null,
      "flex_flow": null,
      "grid_area": null,
      "grid_auto_columns": null,
      "grid_auto_flow": null,
      "grid_auto_rows": null,
      "grid_column": null,
      "grid_gap": null,
      "grid_row": null,
      "grid_template_areas": null,
      "grid_template_columns": null,
      "grid_template_rows": null,
      "height": null,
      "justify_content": null,
      "justify_items": null,
      "left": null,
      "margin": null,
      "max_height": null,
      "max_width": null,
      "min_height": null,
      "min_width": null,
      "object_fit": null,
      "object_position": null,
      "order": null,
      "overflow": null,
      "overflow_x": null,
      "overflow_y": null,
      "padding": null,
      "right": null,
      "top": null,
      "visibility": null,
      "width": null
     }
    },
    "1fb0fb15a09f40099d4340bbf0f90308": {
     "model_module": "@jupyter-widgets/controls",
     "model_module_version": "1.5.0",
     "model_name": "HTMLModel",
     "state": {
      "_dom_classes": [],
      "_model_module": "@jupyter-widgets/controls",
      "_model_module_version": "1.5.0",
      "_model_name": "HTMLModel",
      "_view_count": null,
      "_view_module": "@jupyter-widgets/controls",
      "_view_module_version": "1.5.0",
      "_view_name": "HTMLView",
      "description": "",
      "description_tooltip": null,
      "layout": "IPY_MODEL_86f01c0816254e379a071b80ebc87775",
      "placeholder": "​",
      "style": "IPY_MODEL_0c1662a124d74ef794a0381fd98b1bbe",
      "value": "Downloading: 100%"
     }
    },
    "2b93c464d01f45f78a7b1334d747ef50": {
     "model_module": "@jupyter-widgets/controls",
     "model_module_version": "1.5.0",
     "model_name": "FloatProgressModel",
     "state": {
      "_dom_classes": [],
      "_model_module": "@jupyter-widgets/controls",
      "_model_module_version": "1.5.0",
      "_model_name": "FloatProgressModel",
      "_view_count": null,
      "_view_module": "@jupyter-widgets/controls",
      "_view_module_version": "1.5.0",
      "_view_name": "ProgressView",
      "bar_style": "success",
      "description": "",
      "description_tooltip": null,
      "layout": "IPY_MODEL_4d787fd696c841269760b49fe7026511",
      "max": 507,
      "min": 0,
      "orientation": "horizontal",
      "style": "IPY_MODEL_c1b5cfa96a0f429e8952352f900fcf4d",
      "value": 507
     }
    },
    "2c2f248cdacc4e2aac15e5756b789d8d": {
     "model_module": "@jupyter-widgets/base",
     "model_module_version": "1.2.0",
     "model_name": "LayoutModel",
     "state": {
      "_model_module": "@jupyter-widgets/base",
      "_model_module_version": "1.2.0",
      "_model_name": "LayoutModel",
      "_view_count": null,
      "_view_module": "@jupyter-widgets/base",
      "_view_module_version": "1.2.0",
      "_view_name": "LayoutView",
      "align_content": null,
      "align_items": null,
      "align_self": null,
      "border": null,
      "bottom": null,
      "display": null,
      "flex": null,
      "flex_flow": null,
      "grid_area": null,
      "grid_auto_columns": null,
      "grid_auto_flow": null,
      "grid_auto_rows": null,
      "grid_column": null,
      "grid_gap": null,
      "grid_row": null,
      "grid_template_areas": null,
      "grid_template_columns": null,
      "grid_template_rows": null,
      "height": null,
      "justify_content": null,
      "justify_items": null,
      "left": null,
      "margin": null,
      "max_height": null,
      "max_width": null,
      "min_height": null,
      "min_width": null,
      "object_fit": null,
      "object_position": null,
      "order": null,
      "overflow": null,
      "overflow_x": null,
      "overflow_y": null,
      "padding": null,
      "right": null,
      "top": null,
      "visibility": null,
      "width": null
     }
    },
    "35d816376b7a4747b13c1a7ab15936d6": {
     "model_module": "@jupyter-widgets/controls",
     "model_module_version": "1.5.0",
     "model_name": "HTMLModel",
     "state": {
      "_dom_classes": [],
      "_model_module": "@jupyter-widgets/controls",
      "_model_module_version": "1.5.0",
      "_model_name": "HTMLModel",
      "_view_count": null,
      "_view_module": "@jupyter-widgets/controls",
      "_view_module_version": "1.5.0",
      "_view_name": "HTMLView",
      "description": "",
      "description_tooltip": null,
      "layout": "IPY_MODEL_67026837f4c045e4a45321b86548f1d9",
      "placeholder": "​",
      "style": "IPY_MODEL_f83e14c4af6a42baa72be404bd05d3bd",
      "value": "Downloading: 100%"
     }
    },
    "39b3215e92c54a2eb32b02ac3eb79d08": {
     "model_module": "@jupyter-widgets/base",
     "model_module_version": "1.2.0",
     "model_name": "LayoutModel",
     "state": {
      "_model_module": "@jupyter-widgets/base",
      "_model_module_version": "1.2.0",
      "_model_name": "LayoutModel",
      "_view_count": null,
      "_view_module": "@jupyter-widgets/base",
      "_view_module_version": "1.2.0",
      "_view_name": "LayoutView",
      "align_content": null,
      "align_items": null,
      "align_self": null,
      "border": null,
      "bottom": null,
      "display": null,
      "flex": null,
      "flex_flow": null,
      "grid_area": null,
      "grid_auto_columns": null,
      "grid_auto_flow": null,
      "grid_auto_rows": null,
      "grid_column": null,
      "grid_gap": null,
      "grid_row": null,
      "grid_template_areas": null,
      "grid_template_columns": null,
      "grid_template_rows": null,
      "height": null,
      "justify_content": null,
      "justify_items": null,
      "left": null,
      "margin": null,
      "max_height": null,
      "max_width": null,
      "min_height": null,
      "min_width": null,
      "object_fit": null,
      "object_position": null,
      "order": null,
      "overflow": null,
      "overflow_x": null,
      "overflow_y": null,
      "padding": null,
      "right": null,
      "top": null,
      "visibility": null,
      "width": null
     }
    },
    "3a48cd507f00431a995406a63c19e0da": {
     "model_module": "@jupyter-widgets/controls",
     "model_module_version": "1.5.0",
     "model_name": "DescriptionStyleModel",
     "state": {
      "_model_module": "@jupyter-widgets/controls",
      "_model_module_version": "1.5.0",
      "_model_name": "DescriptionStyleModel",
      "_view_count": null,
      "_view_module": "@jupyter-widgets/base",
      "_view_module_version": "1.2.0",
      "_view_name": "StyleView",
      "description_width": ""
     }
    },
    "3f55defb9a1b47d9ac90a6b04841cafc": {
     "model_module": "@jupyter-widgets/controls",
     "model_module_version": "1.5.0",
     "model_name": "HTMLModel",
     "state": {
      "_dom_classes": [],
      "_model_module": "@jupyter-widgets/controls",
      "_model_module_version": "1.5.0",
      "_model_name": "HTMLModel",
      "_view_count": null,
      "_view_module": "@jupyter-widgets/controls",
      "_view_module_version": "1.5.0",
      "_view_name": "HTMLView",
      "description": "",
      "description_tooltip": null,
      "layout": "IPY_MODEL_44adb228153a495e99b165c6fa72b0f6",
      "placeholder": "​",
      "style": "IPY_MODEL_66bf01a7808b410c8a32f765d4f60260",
      "value": " 129M/129M [00:03&lt;00:00, 44.2MB/s]"
     }
    },
    "44adb228153a495e99b165c6fa72b0f6": {
     "model_module": "@jupyter-widgets/base",
     "model_module_version": "1.2.0",
     "model_name": "LayoutModel",
     "state": {
      "_model_module": "@jupyter-widgets/base",
      "_model_module_version": "1.2.0",
      "_model_name": "LayoutModel",
      "_view_count": null,
      "_view_module": "@jupyter-widgets/base",
      "_view_module_version": "1.2.0",
      "_view_name": "LayoutView",
      "align_content": null,
      "align_items": null,
      "align_self": null,
      "border": null,
      "bottom": null,
      "display": null,
      "flex": null,
      "flex_flow": null,
      "grid_area": null,
      "grid_auto_columns": null,
      "grid_auto_flow": null,
      "grid_auto_rows": null,
      "grid_column": null,
      "grid_gap": null,
      "grid_row": null,
      "grid_template_areas": null,
      "grid_template_columns": null,
      "grid_template_rows": null,
      "height": null,
      "justify_content": null,
      "justify_items": null,
      "left": null,
      "margin": null,
      "max_height": null,
      "max_width": null,
      "min_height": null,
      "min_width": null,
      "object_fit": null,
      "object_position": null,
      "order": null,
      "overflow": null,
      "overflow_x": null,
      "overflow_y": null,
      "padding": null,
      "right": null,
      "top": null,
      "visibility": null,
      "width": null
     }
    },
    "457d5db4606447f9b3cbf3add4a19bf9": {
     "model_module": "@jupyter-widgets/controls",
     "model_module_version": "1.5.0",
     "model_name": "ProgressStyleModel",
     "state": {
      "_model_module": "@jupyter-widgets/controls",
      "_model_module_version": "1.5.0",
      "_model_name": "ProgressStyleModel",
      "_view_count": null,
      "_view_module": "@jupyter-widgets/base",
      "_view_module_version": "1.2.0",
      "_view_name": "StyleView",
      "bar_color": null,
      "description_width": ""
     }
    },
    "4ba5b89dfc4546b3a11785be4aec677f": {
     "model_module": "@jupyter-widgets/base",
     "model_module_version": "1.2.0",
     "model_name": "LayoutModel",
     "state": {
      "_model_module": "@jupyter-widgets/base",
      "_model_module_version": "1.2.0",
      "_model_name": "LayoutModel",
      "_view_count": null,
      "_view_module": "@jupyter-widgets/base",
      "_view_module_version": "1.2.0",
      "_view_name": "LayoutView",
      "align_content": null,
      "align_items": null,
      "align_self": null,
      "border": null,
      "bottom": null,
      "display": null,
      "flex": null,
      "flex_flow": null,
      "grid_area": null,
      "grid_auto_columns": null,
      "grid_auto_flow": null,
      "grid_auto_rows": null,
      "grid_column": null,
      "grid_gap": null,
      "grid_row": null,
      "grid_template_areas": null,
      "grid_template_columns": null,
      "grid_template_rows": null,
      "height": null,
      "justify_content": null,
      "justify_items": null,
      "left": null,
      "margin": null,
      "max_height": null,
      "max_width": null,
      "min_height": null,
      "min_width": null,
      "object_fit": null,
      "object_position": null,
      "order": null,
      "overflow": null,
      "overflow_x": null,
      "overflow_y": null,
      "padding": null,
      "right": null,
      "top": null,
      "visibility": null,
      "width": null
     }
    },
    "4d787fd696c841269760b49fe7026511": {
     "model_module": "@jupyter-widgets/base",
     "model_module_version": "1.2.0",
     "model_name": "LayoutModel",
     "state": {
      "_model_module": "@jupyter-widgets/base",
      "_model_module_version": "1.2.0",
      "_model_name": "LayoutModel",
      "_view_count": null,
      "_view_module": "@jupyter-widgets/base",
      "_view_module_version": "1.2.0",
      "_view_name": "LayoutView",
      "align_content": null,
      "align_items": null,
      "align_self": null,
      "border": null,
      "bottom": null,
      "display": null,
      "flex": null,
      "flex_flow": null,
      "grid_area": null,
      "grid_auto_columns": null,
      "grid_auto_flow": null,
      "grid_auto_rows": null,
      "grid_column": null,
      "grid_gap": null,
      "grid_row": null,
      "grid_template_areas": null,
      "grid_template_columns": null,
      "grid_template_rows": null,
      "height": null,
      "justify_content": null,
      "justify_items": null,
      "left": null,
      "margin": null,
      "max_height": null,
      "max_width": null,
      "min_height": null,
      "min_width": null,
      "object_fit": null,
      "object_position": null,
      "order": null,
      "overflow": null,
      "overflow_x": null,
      "overflow_y": null,
      "padding": null,
      "right": null,
      "top": null,
      "visibility": null,
      "width": null
     }
    },
    "4e3b4908285b4f2894988a912210ef54": {
     "model_module": "@jupyter-widgets/controls",
     "model_module_version": "1.5.0",
     "model_name": "DescriptionStyleModel",
     "state": {
      "_model_module": "@jupyter-widgets/controls",
      "_model_module_version": "1.5.0",
      "_model_name": "DescriptionStyleModel",
      "_view_count": null,
      "_view_module": "@jupyter-widgets/base",
      "_view_module_version": "1.2.0",
      "_view_name": "StyleView",
      "description_width": ""
     }
    },
    "501a3221738e4592bbaa379dc68dcf89": {
     "model_module": "@jupyter-widgets/controls",
     "model_module_version": "1.5.0",
     "model_name": "HBoxModel",
     "state": {
      "_dom_classes": [],
      "_model_module": "@jupyter-widgets/controls",
      "_model_module_version": "1.5.0",
      "_model_name": "HBoxModel",
      "_view_count": null,
      "_view_module": "@jupyter-widgets/controls",
      "_view_module_version": "1.5.0",
      "_view_name": "HBoxView",
      "box_style": "",
      "children": [
       "IPY_MODEL_1fb0fb15a09f40099d4340bbf0f90308",
       "IPY_MODEL_51b6778b7ccc4b3da7e76fe8a54b3c9d",
       "IPY_MODEL_5d80aa8afdbf4625a07ee3269bba7d13"
      ],
      "layout": "IPY_MODEL_39b3215e92c54a2eb32b02ac3eb79d08"
     }
    },
    "51b6778b7ccc4b3da7e76fe8a54b3c9d": {
     "model_module": "@jupyter-widgets/controls",
     "model_module_version": "1.5.0",
     "model_name": "FloatProgressModel",
     "state": {
      "_dom_classes": [],
      "_model_module": "@jupyter-widgets/controls",
      "_model_module_version": "1.5.0",
      "_model_name": "FloatProgressModel",
      "_view_count": null,
      "_view_module": "@jupyter-widgets/controls",
      "_view_module_version": "1.5.0",
      "_view_name": "ProgressView",
      "bar_style": "success",
      "description": "",
      "description_tooltip": null,
      "layout": "IPY_MODEL_089df84e5e1447a49710540e8b768e5b",
      "max": 5646064,
      "min": 0,
      "orientation": "horizontal",
      "style": "IPY_MODEL_7a3d236763764c7da94027ed66f3d645",
      "value": 5646064
     }
    },
    "5d80aa8afdbf4625a07ee3269bba7d13": {
     "model_module": "@jupyter-widgets/controls",
     "model_module_version": "1.5.0",
     "model_name": "HTMLModel",
     "state": {
      "_dom_classes": [],
      "_model_module": "@jupyter-widgets/controls",
      "_model_module_version": "1.5.0",
      "_model_name": "HTMLModel",
      "_view_count": null,
      "_view_module": "@jupyter-widgets/controls",
      "_view_module_version": "1.5.0",
      "_view_name": "HTMLView",
      "description": "",
      "description_tooltip": null,
      "layout": "IPY_MODEL_c4ab4fb99e6e41df8def920c90440a15",
      "placeholder": "​",
      "style": "IPY_MODEL_3a48cd507f00431a995406a63c19e0da",
      "value": " 5.38M/5.38M [00:00&lt;00:00, 6.99MB/s]"
     }
    },
    "66bf01a7808b410c8a32f765d4f60260": {
     "model_module": "@jupyter-widgets/controls",
     "model_module_version": "1.5.0",
     "model_name": "DescriptionStyleModel",
     "state": {
      "_model_module": "@jupyter-widgets/controls",
      "_model_module_version": "1.5.0",
      "_model_name": "DescriptionStyleModel",
      "_view_count": null,
      "_view_module": "@jupyter-widgets/base",
      "_view_module_version": "1.2.0",
      "_view_name": "StyleView",
      "description_width": ""
     }
    },
    "67026837f4c045e4a45321b86548f1d9": {
     "model_module": "@jupyter-widgets/base",
     "model_module_version": "1.2.0",
     "model_name": "LayoutModel",
     "state": {
      "_model_module": "@jupyter-widgets/base",
      "_model_module_version": "1.2.0",
      "_model_name": "LayoutModel",
      "_view_count": null,
      "_view_module": "@jupyter-widgets/base",
      "_view_module_version": "1.2.0",
      "_view_name": "LayoutView",
      "align_content": null,
      "align_items": null,
      "align_self": null,
      "border": null,
      "bottom": null,
      "display": null,
      "flex": null,
      "flex_flow": null,
      "grid_area": null,
      "grid_auto_columns": null,
      "grid_auto_flow": null,
      "grid_auto_rows": null,
      "grid_column": null,
      "grid_gap": null,
      "grid_row": null,
      "grid_template_areas": null,
      "grid_template_columns": null,
      "grid_template_rows": null,
      "height": null,
      "justify_content": null,
      "justify_items": null,
      "left": null,
      "margin": null,
      "max_height": null,
      "max_width": null,
      "min_height": null,
      "min_width": null,
      "object_fit": null,
      "object_position": null,
      "order": null,
      "overflow": null,
      "overflow_x": null,
      "overflow_y": null,
      "padding": null,
      "right": null,
      "top": null,
      "visibility": null,
      "width": null
     }
    },
    "6e7a5f6df64040eb82474a4b7fd24152": {
     "model_module": "@jupyter-widgets/controls",
     "model_module_version": "1.5.0",
     "model_name": "HTMLModel",
     "state": {
      "_dom_classes": [],
      "_model_module": "@jupyter-widgets/controls",
      "_model_module_version": "1.5.0",
      "_model_name": "HTMLModel",
      "_view_count": null,
      "_view_module": "@jupyter-widgets/controls",
      "_view_module_version": "1.5.0",
      "_view_name": "HTMLView",
      "description": "",
      "description_tooltip": null,
      "layout": "IPY_MODEL_1b342594de364bc78f41dcd255e17184",
      "placeholder": "​",
      "style": "IPY_MODEL_c34dcad9377c4c029f7903bc0c803ff3",
      "value": " 507/507 [00:00&lt;00:00, 4.18kB/s]"
     }
    },
    "70937098627b4e7bbe4162c31432a6a0": {
     "model_module": "@jupyter-widgets/base",
     "model_module_version": "1.2.0",
     "model_name": "LayoutModel",
     "state": {
      "_model_module": "@jupyter-widgets/base",
      "_model_module_version": "1.2.0",
      "_model_name": "LayoutModel",
      "_view_count": null,
      "_view_module": "@jupyter-widgets/base",
      "_view_module_version": "1.2.0",
      "_view_name": "LayoutView",
      "align_content": null,
      "align_items": null,
      "align_self": null,
      "border": null,
      "bottom": null,
      "display": null,
      "flex": null,
      "flex_flow": null,
      "grid_area": null,
      "grid_auto_columns": null,
      "grid_auto_flow": null,
      "grid_auto_rows": null,
      "grid_column": null,
      "grid_gap": null,
      "grid_row": null,
      "grid_template_areas": null,
      "grid_template_columns": null,
      "grid_template_rows": null,
      "height": null,
      "justify_content": null,
      "justify_items": null,
      "left": null,
      "margin": null,
      "max_height": null,
      "max_width": null,
      "min_height": null,
      "min_width": null,
      "object_fit": null,
      "object_position": null,
      "order": null,
      "overflow": null,
      "overflow_x": null,
      "overflow_y": null,
      "padding": null,
      "right": null,
      "top": null,
      "visibility": null,
      "width": null
     }
    },
    "7a3d236763764c7da94027ed66f3d645": {
     "model_module": "@jupyter-widgets/controls",
     "model_module_version": "1.5.0",
     "model_name": "ProgressStyleModel",
     "state": {
      "_model_module": "@jupyter-widgets/controls",
      "_model_module_version": "1.5.0",
      "_model_name": "ProgressStyleModel",
      "_view_count": null,
      "_view_module": "@jupyter-widgets/base",
      "_view_module_version": "1.2.0",
      "_view_name": "StyleView",
      "bar_color": null,
      "description_width": ""
     }
    },
    "86f01c0816254e379a071b80ebc87775": {
     "model_module": "@jupyter-widgets/base",
     "model_module_version": "1.2.0",
     "model_name": "LayoutModel",
     "state": {
      "_model_module": "@jupyter-widgets/base",
      "_model_module_version": "1.2.0",
      "_model_name": "LayoutModel",
      "_view_count": null,
      "_view_module": "@jupyter-widgets/base",
      "_view_module_version": "1.2.0",
      "_view_name": "LayoutView",
      "align_content": null,
      "align_items": null,
      "align_self": null,
      "border": null,
      "bottom": null,
      "display": null,
      "flex": null,
      "flex_flow": null,
      "grid_area": null,
      "grid_auto_columns": null,
      "grid_auto_flow": null,
      "grid_auto_rows": null,
      "grid_column": null,
      "grid_gap": null,
      "grid_row": null,
      "grid_template_areas": null,
      "grid_template_columns": null,
      "grid_template_rows": null,
      "height": null,
      "justify_content": null,
      "justify_items": null,
      "left": null,
      "margin": null,
      "max_height": null,
      "max_width": null,
      "min_height": null,
      "min_width": null,
      "object_fit": null,
      "object_position": null,
      "order": null,
      "overflow": null,
      "overflow_x": null,
      "overflow_y": null,
      "padding": null,
      "right": null,
      "top": null,
      "visibility": null,
      "width": null
     }
    },
    "a7c1c1517a564c15b1c68aef8119c846": {
     "model_module": "@jupyter-widgets/controls",
     "model_module_version": "1.5.0",
     "model_name": "HBoxModel",
     "state": {
      "_dom_classes": [],
      "_model_module": "@jupyter-widgets/controls",
      "_model_module_version": "1.5.0",
      "_model_name": "HBoxModel",
      "_view_count": null,
      "_view_module": "@jupyter-widgets/controls",
      "_view_module_version": "1.5.0",
      "_view_name": "HBoxView",
      "box_style": "",
      "children": [
       "IPY_MODEL_35d816376b7a4747b13c1a7ab15936d6",
       "IPY_MODEL_2b93c464d01f45f78a7b1334d747ef50",
       "IPY_MODEL_6e7a5f6df64040eb82474a4b7fd24152"
      ],
      "layout": "IPY_MODEL_4ba5b89dfc4546b3a11785be4aec677f"
     }
    },
    "c1b5cfa96a0f429e8952352f900fcf4d": {
     "model_module": "@jupyter-widgets/controls",
     "model_module_version": "1.5.0",
     "model_name": "ProgressStyleModel",
     "state": {
      "_model_module": "@jupyter-widgets/controls",
      "_model_module_version": "1.5.0",
      "_model_name": "ProgressStyleModel",
      "_view_count": null,
      "_view_module": "@jupyter-widgets/base",
      "_view_module_version": "1.2.0",
      "_view_name": "StyleView",
      "bar_color": null,
      "description_width": ""
     }
    },
    "c34dcad9377c4c029f7903bc0c803ff3": {
     "model_module": "@jupyter-widgets/controls",
     "model_module_version": "1.5.0",
     "model_name": "DescriptionStyleModel",
     "state": {
      "_model_module": "@jupyter-widgets/controls",
      "_model_module_version": "1.5.0",
      "_model_name": "DescriptionStyleModel",
      "_view_count": null,
      "_view_module": "@jupyter-widgets/base",
      "_view_module_version": "1.2.0",
      "_view_name": "StyleView",
      "description_width": ""
     }
    },
    "c4ab4fb99e6e41df8def920c90440a15": {
     "model_module": "@jupyter-widgets/base",
     "model_module_version": "1.2.0",
     "model_name": "LayoutModel",
     "state": {
      "_model_module": "@jupyter-widgets/base",
      "_model_module_version": "1.2.0",
      "_model_name": "LayoutModel",
      "_view_count": null,
      "_view_module": "@jupyter-widgets/base",
      "_view_module_version": "1.2.0",
      "_view_name": "LayoutView",
      "align_content": null,
      "align_items": null,
      "align_self": null,
      "border": null,
      "bottom": null,
      "display": null,
      "flex": null,
      "flex_flow": null,
      "grid_area": null,
      "grid_auto_columns": null,
      "grid_auto_flow": null,
      "grid_auto_rows": null,
      "grid_column": null,
      "grid_gap": null,
      "grid_row": null,
      "grid_template_areas": null,
      "grid_template_columns": null,
      "grid_template_rows": null,
      "height": null,
      "justify_content": null,
      "justify_items": null,
      "left": null,
      "margin": null,
      "max_height": null,
      "max_width": null,
      "min_height": null,
      "min_width": null,
      "object_fit": null,
      "object_position": null,
      "order": null,
      "overflow": null,
      "overflow_x": null,
      "overflow_y": null,
      "padding": null,
      "right": null,
      "top": null,
      "visibility": null,
      "width": null
     }
    },
    "f6d59a41b12f4c09aa8c2415494b5797": {
     "model_module": "@jupyter-widgets/controls",
     "model_module_version": "1.5.0",
     "model_name": "FloatProgressModel",
     "state": {
      "_dom_classes": [],
      "_model_module": "@jupyter-widgets/controls",
      "_model_module_version": "1.5.0",
      "_model_name": "FloatProgressModel",
      "_view_count": null,
      "_view_module": "@jupyter-widgets/controls",
      "_view_module_version": "1.5.0",
      "_view_name": "ProgressView",
      "bar_style": "success",
      "description": "",
      "description_tooltip": null,
      "layout": "IPY_MODEL_70937098627b4e7bbe4162c31432a6a0",
      "max": 134982446,
      "min": 0,
      "orientation": "horizontal",
      "style": "IPY_MODEL_457d5db4606447f9b3cbf3add4a19bf9",
      "value": 134982446
     }
    },
    "f78b355d1037458d8060bb545c48e523": {
     "model_module": "@jupyter-widgets/controls",
     "model_module_version": "1.5.0",
     "model_name": "HBoxModel",
     "state": {
      "_dom_classes": [],
      "_model_module": "@jupyter-widgets/controls",
      "_model_module_version": "1.5.0",
      "_model_name": "HBoxModel",
      "_view_count": null,
      "_view_module": "@jupyter-widgets/controls",
      "_view_module_version": "1.5.0",
      "_view_name": "HBoxView",
      "box_style": "",
      "children": [
       "IPY_MODEL_1817ff41d2f84fc0ae857be88a422ccd",
       "IPY_MODEL_f6d59a41b12f4c09aa8c2415494b5797",
       "IPY_MODEL_3f55defb9a1b47d9ac90a6b04841cafc"
      ],
      "layout": "IPY_MODEL_15a37f7826fd4b969d97986fa4808abd"
     }
    },
    "f83e14c4af6a42baa72be404bd05d3bd": {
     "model_module": "@jupyter-widgets/controls",
     "model_module_version": "1.5.0",
     "model_name": "DescriptionStyleModel",
     "state": {
      "_model_module": "@jupyter-widgets/controls",
      "_model_module_version": "1.5.0",
      "_model_name": "DescriptionStyleModel",
      "_view_count": null,
      "_view_module": "@jupyter-widgets/base",
      "_view_module_version": "1.2.0",
      "_view_name": "StyleView",
      "description_width": ""
     }
    }
   }
  }
 },
 "nbformat": 4,
 "nbformat_minor": 1
}
